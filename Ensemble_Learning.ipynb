{
  "cells": [
    {
      "cell_type": "markdown",
      "source": [
        "#Ensemble Learning"
      ],
      "metadata": {
        "id": "X5pWNLH9EUWo"
      }
    },
    {
      "cell_type": "markdown",
      "source": [
        "#Load Data"
      ],
      "metadata": {
        "id": "Rpi7GaW71ARU"
      }
    },
    {
      "cell_type": "code",
      "execution_count": 1,
      "metadata": {
        "id": "OEiEFlp3ddzi"
      },
      "outputs": [],
      "source": [
        "import sklearn"
      ]
    },
    {
      "cell_type": "code",
      "execution_count": 2,
      "metadata": {
        "colab": {
          "base_uri": "https://localhost:8080/"
        },
        "id": "roOQ18iMvbFC",
        "outputId": "e4aee7b0-390f-480f-9e49-f0b3308a5399"
      },
      "outputs": [
        {
          "output_type": "stream",
          "name": "stdout",
          "text": [
            "Mounted at /content/gdrive\n"
          ]
        }
      ],
      "source": [
        "from google.colab import drive\n",
        "drive.mount('/content/gdrive')"
      ]
    },
    {
      "cell_type": "code",
      "execution_count": 3,
      "metadata": {
        "id": "AoPRHZFUxZ4S"
      },
      "outputs": [],
      "source": [
        "lines = []\n",
        "with open('/content/gdrive/My Drive/***/pairsDevTrain.txt', 'r') as f:\n",
        "    lines = f.readlines()"
      ]
    },
    {
      "cell_type": "code",
      "execution_count": 4,
      "metadata": {
        "id": "8xa11MFLLMox"
      },
      "outputs": [],
      "source": [
        "lines_test = []\n",
        "with open('/content/gdrive/My Drive/***/pairsDevTest.txt', 'r') as f:\n",
        "    lines_test = f.readlines()"
      ]
    },
    {
      "cell_type": "code",
      "execution_count": 5,
      "metadata": {
        "id": "6PFDsPTc8BJf"
      },
      "outputs": [],
      "source": [
        "lin = []\n",
        "for line in lines:\n",
        "  line = line.replace(\"\\n\" , \"\")\n",
        "  x = line.split(\"\\t\")\n",
        "  lin.append(x)"
      ]
    },
    {
      "cell_type": "code",
      "execution_count": 6,
      "metadata": {
        "id": "LEpfzs8ZLUTK"
      },
      "outputs": [],
      "source": [
        "lin_test = []\n",
        "for line in lines_test:\n",
        "  line = line.replace(\"\\n\" , \"\")\n",
        "  x = line.split(\"\\t\")\n",
        "  lin_test.append(x)"
      ]
    },
    {
      "cell_type": "code",
      "execution_count": 8,
      "metadata": {
        "id": "WqODzBAI9Y8h"
      },
      "outputs": [],
      "source": [
        "Xtrain_first = []\n",
        "Xtrain_second = []\n",
        "Ytrain = []\n",
        "\n",
        "for i in range(int(lin[0][0])):\n",
        "  Ytrain.append(1)\n",
        "  if int(lin[i+1][1]) < 10:\n",
        "    st = f'000{lin[i+1][1]}'\n",
        "  elif int(lin[i+1][1]) < 100:\n",
        "    st = f'00{lin[i+1][1]}'\n",
        "  elif int(lin[i+1][1]) < 1000:\n",
        "    st = f'0{lin[i+1][1]}'\n",
        "  else:\n",
        "    st = lin[i+1][1]\n",
        "\n",
        "  if int(lin[i+1][2]) < 10:\n",
        "    st1 = f'000{lin[i+1][2]}'\n",
        "  elif int(lin[i+1][2]) < 100:\n",
        "    st1 = f'00{lin[i+1][2]}'\n",
        "  elif int(lin[i+1][2]) < 1000:\n",
        "    st1 = f'0{lin[i+1][2]}'\n",
        "  else:\n",
        "    st1 = lin[i+1][2]\n",
        "\n",
        "  x = open(f'/content/gdrive/My Drive/***/lfw/{lin[i+1][0]}/{lin[i+1][0]}_{st}.txt', 'r')\n",
        "  y = open(f'/content/gdrive/My Drive/***/lfw/{lin[i+1][0]}/{lin[i+1][0]}_{st1}.txt', 'r')\n",
        "\n",
        "  with x as f:\n",
        "    lines = f.readlines()\n",
        "    for line in lines:\n",
        "      line = line.replace(\"\\n\" , \"\")\n",
        "      line = line.replace(\"]\", \"\")\n",
        "      line = line.replace(\"[\", \"\")\n",
        "      x = line.split()\n",
        "      Xtrain_first.append(x)\n",
        "  with y as f1:\n",
        "    lines = f1.readlines()\n",
        "    for line in lines:\n",
        "      line = line.replace(\"\\n\" , \"\")\n",
        "      line = line.replace(\"]\", \"\")\n",
        "      line = line.replace(\"[\", \"\")\n",
        "      x = line.split()\n",
        "      Xtrain_second.append(x)"
      ]
    },
    {
      "cell_type": "code",
      "execution_count": 9,
      "metadata": {
        "id": "8xSIBSYINDcs"
      },
      "outputs": [],
      "source": [
        "for i in range(int(lin[0][0]), 2*int(lin[0][0])):\n",
        "  Ytrain.append(0)\n",
        "  if int(lin[i+1][1]) < 10:\n",
        "    st = f'000{lin[i+1][1]}'\n",
        "  elif int(lin[i+1][1]) < 100:\n",
        "    st = f'00{lin[i+1][1]}'\n",
        "  elif int(lin[i+1][1]) < 1000:\n",
        "    st = f'0{lin[i+1][1]}'\n",
        "  else:\n",
        "    st = lin[i+1][1]\n",
        "\n",
        "  if int(lin[i+1][3]) < 10:\n",
        "    st1 = f'000{lin[i+1][3]}'\n",
        "  elif int(lin[i+1][3]) < 100:\n",
        "    st1 = f'00{lin[i+1][3]}'\n",
        "  elif int(lin[i+1][3]) < 1000:\n",
        "    st1 = f'0{lin[i+1][3]}'\n",
        "  else:\n",
        "    st1 = lin[i+1][3]\n",
        "\n",
        "  x = open(f'/content/gdrive/My Drive/***/lfw/{lin[i+1][0]}/{lin[i+1][0]}_{st}.txt', 'r')\n",
        "  y = open(f'/content/gdrive/My Drive/***/lfw/{lin[i+1][2]}/{lin[i+1][2]}_{st1}.txt', 'r')\n",
        "\n",
        "  with x as f:\n",
        "    lines = f.readlines()\n",
        "    for line in lines:\n",
        "      line = line.replace(\"\\n\" , \"\")\n",
        "      line = line.replace(\"]\", \"\")\n",
        "      line = line.replace(\"[\", \"\")\n",
        "      x = line.split()\n",
        "      Xtrain_first.append(x)\n",
        "  with y as f1:\n",
        "    lines = f1.readlines()\n",
        "    for line in lines:\n",
        "      line = line.replace(\"\\n\" , \"\")\n",
        "      line = line.replace(\"]\", \"\")\n",
        "      line = line.replace(\"[\", \"\")\n",
        "      x = line.split()\n",
        "      Xtrain_second.append(x)"
      ]
    },
    {
      "cell_type": "code",
      "execution_count": 10,
      "metadata": {
        "id": "DtanfUF4Lk9d"
      },
      "outputs": [],
      "source": [
        "Xtest_first = []\n",
        "Xtest_second = []\n",
        "Ytest = []\n",
        "\n",
        "for i in range(int(lin_test[0][0])):\n",
        "  Ytest.append(1)\n",
        "  if int(lin_test[i+1][1]) < 10:\n",
        "    st = f'000{lin_test[i+1][1]}'\n",
        "  elif int(lin_test[i+1][1]) < 100:\n",
        "    st = f'00{lin_test[i+1][1]}'\n",
        "  elif int(lin_test[i+1][1]) < 1000:\n",
        "    st = f'0{lin_test[i+1][1]}'\n",
        "  else:\n",
        "    st = lin_test[i+1][1]\n",
        "\n",
        "  if int(lin_test[i+1][2]) < 10:\n",
        "    st1 = f'000{lin_test[i+1][2]}'\n",
        "  elif int(lin_test[i+1][2]) < 100:\n",
        "    st1 = f'00{lin_test[i+1][2]}'\n",
        "  elif int(lin_test[i+1][2]) < 1000:\n",
        "    st1 = f'0{lin_test[i+1][2]}'\n",
        "  else:\n",
        "    st1 = lin_test[i+1][2]\n",
        "\n",
        "  x = open(f'/content/gdrive/My Drive/***/lfw/{lin_test[i+1][0]}/{lin_test[i+1][0]}_{st}.txt', 'r')\n",
        "  y = open(f'/content/gdrive/My Drive/***/lfw/{lin_test[i+1][0]}/{lin_test[i+1][0]}_{st1}.txt', 'r')\n",
        "\n",
        "  with x as f:\n",
        "    lines = f.readlines()\n",
        "    for line in lines:\n",
        "      line = line.replace(\"\\n\" , \"\")\n",
        "      line = line.replace(\"]\", \"\")\n",
        "      line = line.replace(\"[\", \"\")\n",
        "      x = line.split()\n",
        "      Xtest_first.append(x)\n",
        "  with y as f1:\n",
        "    lines = f1.readlines()\n",
        "    for line in lines:\n",
        "      line = line.replace(\"\\n\" , \"\")\n",
        "      line = line.replace(\"]\", \"\")\n",
        "      line = line.replace(\"[\", \"\")\n",
        "      x = line.split()\n",
        "      Xtest_second.append(x)"
      ]
    },
    {
      "cell_type": "code",
      "execution_count": 11,
      "metadata": {
        "id": "tikshuEDMXWM"
      },
      "outputs": [],
      "source": [
        "for i in range(int(lin_test[0][0]), 2*int(lin_test[0][0])):\n",
        "  Ytest.append(0)\n",
        "  if int(lin_test[i+1][1]) < 10:\n",
        "    st = f'000{lin_test[i+1][1]}'\n",
        "  elif int(lin_test[i+1][1]) < 100:\n",
        "    st = f'00{lin_test[i+1][1]}'\n",
        "  elif int(lin_test[i+1][1]) < 1000:\n",
        "    st = f'0{lin_test[i+1][1]}'\n",
        "  else:\n",
        "    st = lin_test[i+1][1]\n",
        "\n",
        "  if int(lin_test[i+1][3]) < 10:\n",
        "    st1 = f'000{lin_test[i+1][3]}'\n",
        "  elif int(lin_test[i+1][3]) < 100:\n",
        "    st1 = f'00{lin_test[i+1][3]}'\n",
        "  elif int(lin_test[i+1][3]) < 1000:\n",
        "    st1 = f'0{lin_test[i+1][3]}'\n",
        "  else:\n",
        "    st1 = lin_test[i+1][3]\n",
        "\n",
        "  x = open(f'/content/gdrive/My Drive/***/lfw/{lin_test[i+1][0]}/{lin_test[i+1][0]}_{st}.txt', 'r')\n",
        "  y = open(f'/content/gdrive/My Drive/***/lfw/{lin_test[i+1][2]}/{lin_test[i+1][2]}_{st1}.txt', 'r')\n",
        "\n",
        "  with x as f:\n",
        "    lines = f.readlines()\n",
        "    for line in lines:\n",
        "      line = line.replace(\"\\n\" , \"\")\n",
        "      line = line.replace(\"]\", \"\")\n",
        "      line = line.replace(\"[\", \"\")\n",
        "      x = line.split()\n",
        "      Xtest_first.append(x)\n",
        "  with y as f1:\n",
        "    lines = f1.readlines()\n",
        "    for line in lines:\n",
        "      line = line.replace(\"\\n\" , \"\")\n",
        "      line = line.replace(\"]\", \"\")\n",
        "      line = line.replace(\"[\", \"\")\n",
        "      x = line.split()\n",
        "      Xtest_second.append(x)"
      ]
    },
    {
      "cell_type": "code",
      "execution_count": 12,
      "metadata": {
        "id": "ySGXGNKp6d4y"
      },
      "outputs": [],
      "source": [
        "flatten_list = lambda y:[x for a in y for x in flatten_list(a)] if type(y) is list else [y]\n",
        "temp = flatten_list(Xtrain_first)\n",
        "temp2 = flatten_list(Xtrain_second)"
      ]
    },
    {
      "cell_type": "code",
      "execution_count": 13,
      "metadata": {
        "id": "BrJmCiEpM7Xx"
      },
      "outputs": [],
      "source": [
        "flatten_list = lambda y:[x for a in y for x in flatten_list(a)] if type(y) is list else [y]\n",
        "temp3 = flatten_list(Xtest_first)\n",
        "temp4 = flatten_list(Xtest_second)"
      ]
    },
    {
      "cell_type": "code",
      "execution_count": 14,
      "metadata": {
        "id": "pO1dQYDk5uoj"
      },
      "outputs": [],
      "source": [
        "import numpy as np\n",
        "Xtrain_first = np.array(temp).reshape(-1, 512)\n",
        "Xtrain_second = np.array(temp2).reshape(-1, 512)"
      ]
    },
    {
      "cell_type": "code",
      "execution_count": 15,
      "metadata": {
        "id": "lpRt2_GCNF8J"
      },
      "outputs": [],
      "source": [
        "Xtest_first = np.array(temp3).reshape(-1, 512)\n",
        "Xtest_second = np.array(temp4).reshape(-1, 512)"
      ]
    },
    {
      "cell_type": "code",
      "execution_count": 16,
      "metadata": {
        "id": "Z_KldmT4skoI",
        "colab": {
          "base_uri": "https://localhost:8080/"
        },
        "outputId": "65b03d71-a098-4cc7-b9ad-394df1ed66b1"
      },
      "outputs": [
        {
          "output_type": "stream",
          "name": "stdout",
          "text": [
            "(2200, 512)\n",
            "(2200, 512)\n"
          ]
        }
      ],
      "source": [
        "import pandas as pd   \n",
        "\n",
        "df1 = pd.DataFrame(Xtrain_first)\n",
        "df2 = pd.DataFrame(Xtrain_second)\n",
        "print(df1.shape)\n",
        "print(df2.shape)\n",
        "\n",
        "df_contact = pd.concat([df1, df2], axis=1)"
      ]
    },
    {
      "cell_type": "code",
      "execution_count": 17,
      "metadata": {
        "id": "Wkm3KV_4NPwI",
        "colab": {
          "base_uri": "https://localhost:8080/"
        },
        "outputId": "bbd52154-39e2-457c-9afd-4f7932e76c29"
      },
      "outputs": [
        {
          "output_type": "stream",
          "name": "stdout",
          "text": [
            "(1000, 512)\n",
            "(1000, 512)\n"
          ]
        }
      ],
      "source": [
        "df3 = pd.DataFrame(Xtest_first)\n",
        "df4 = pd.DataFrame(Xtest_second)\n",
        "print(df3.shape)\n",
        "print(df4.shape)\n",
        "\n",
        "df_contact_test = pd.concat([df3, df4], axis=1)"
      ]
    },
    {
      "cell_type": "code",
      "execution_count": 18,
      "metadata": {
        "id": "_HTBFW-a-tsL",
        "colab": {
          "base_uri": "https://localhost:8080/"
        },
        "outputId": "f7bdccf6-76aa-4416-8fe3-1420a3a70aec"
      },
      "outputs": [
        {
          "output_type": "execute_result",
          "data": {
            "text/plain": [
              "(2200, 1)"
            ]
          },
          "metadata": {},
          "execution_count": 18
        }
      ],
      "source": [
        "Ytrain = np.array(Ytrain).reshape(len(Ytrain))\n",
        "df_y = pd.DataFrame(Ytrain)\n",
        "df_y.shape"
      ]
    },
    {
      "cell_type": "code",
      "execution_count": 19,
      "metadata": {
        "id": "H__kvmePoeqE",
        "colab": {
          "base_uri": "https://localhost:8080/"
        },
        "outputId": "74eaf9d7-2f69-4277-f9d5-d2c739472810"
      },
      "outputs": [
        {
          "output_type": "execute_result",
          "data": {
            "text/plain": [
              "(1000, 1)"
            ]
          },
          "metadata": {},
          "execution_count": 19
        }
      ],
      "source": [
        "Ytest = np.array(Ytest).reshape(len(Ytest))\n",
        "df_y_test = pd.DataFrame(Ytest)\n",
        "df_y_test.shape"
      ]
    },
    {
      "cell_type": "code",
      "execution_count": null,
      "metadata": {
        "id": "gcwvAGic0srg"
      },
      "outputs": [],
      "source": [
        "from google.colab import files\n",
        "df_contact.to_csv('df_contact.csv') \n",
        "files.download('df_contact.csv')"
      ]
    },
    {
      "cell_type": "code",
      "execution_count": null,
      "metadata": {
        "id": "EFEQns_INk6G"
      },
      "outputs": [],
      "source": [
        "df_contact_test.to_csv('df_contact_test.csv') \n",
        "files.download('df_contact_test.csv')"
      ]
    },
    {
      "cell_type": "code",
      "execution_count": null,
      "metadata": {
        "id": "dUylAqzf9s_b"
      },
      "outputs": [],
      "source": [
        "from google.colab import files\n",
        "df1.to_csv('df_first.csv') \n",
        "files.download('df_first.csv')\n",
        "\n",
        "from google.colab import files\n",
        "df2.to_csv('df_second.csv') \n",
        "files.download('df_second.csv')"
      ]
    },
    {
      "cell_type": "code",
      "execution_count": null,
      "metadata": {
        "id": "Qmw8pV9tNqYQ"
      },
      "outputs": [],
      "source": [
        "df3.to_csv('df_first_test.csv') \n",
        "files.download('df_first_test.csv')\n",
        "\n",
        "df4.to_csv('df_second_test.csv') \n",
        "files.download('df_second_test.csv')"
      ]
    },
    {
      "cell_type": "code",
      "execution_count": null,
      "metadata": {
        "id": "wGJgc_x5ol4L"
      },
      "outputs": [],
      "source": [
        "from google.colab import files\n",
        "df_y_test.to_csv('df_y_test.csv') \n",
        "files.download('df_y_test.csv')"
      ]
    },
    {
      "cell_type": "code",
      "execution_count": null,
      "metadata": {
        "id": "V3ntA1zV_BM4"
      },
      "outputs": [],
      "source": [
        "df_y.to_csv('df_y.csv') \n",
        "files.download('df_y.csv')"
      ]
    },
    {
      "cell_type": "markdown",
      "metadata": {
        "id": "KthR1Xehop4Z"
      },
      "source": [
        "-------------------"
      ]
    },
    {
      "cell_type": "markdown",
      "metadata": {
        "id": "AWn_dHfgzbtp"
      },
      "source": [
        "#First Phase"
      ]
    },
    {
      "cell_type": "markdown",
      "source": [
        "##Pre-process"
      ],
      "metadata": {
        "id": "conHICQ23jPU"
      }
    },
    {
      "cell_type": "code",
      "execution_count": 20,
      "metadata": {
        "id": "Jce7-N_XLMYk"
      },
      "outputs": [],
      "source": [
        "import numpy as np\n",
        "import pandas as pd\n",
        "from google.colab import files\n",
        "import sklearn\n",
        "from sklearn import preprocessing"
      ]
    },
    {
      "cell_type": "code",
      "source": [
        "from google.colab import drive\n",
        "drive.mount('/content/gdrive')"
      ],
      "metadata": {
        "id": "B3OQocZCkRvj",
        "colab": {
          "base_uri": "https://localhost:8080/"
        },
        "outputId": "f28bad2c-1f21-4bf5-c173-200c500dac8d"
      },
      "execution_count": 21,
      "outputs": [
        {
          "output_type": "stream",
          "name": "stdout",
          "text": [
            "Drive already mounted at /content/gdrive; to attempt to forcibly remount, call drive.mount(\"/content/gdrive\", force_remount=True).\n"
          ]
        }
      ]
    },
    {
      "cell_type": "code",
      "execution_count": 237,
      "metadata": {
        "id": "qQVwk4Wwsu2W"
      },
      "outputs": [],
      "source": [
        "df_contact = pd.read_csv(r'/content/gdrive/My Drive/***/df_contact.csv', index_col=0)\n",
        "df_contact_test = pd.read_csv(r'/content/gdrive/My Drive/***/df_contact_test.csv', index_col=0)\n",
        "df_y =  pd.read_csv(r'/content/gdrive/My Drive/***/df_y.csv', index_col=0)\n",
        "df_y_test =  pd.read_csv(r'/content/gdrive/My Drive/***/df_y_test.csv', index_col=0)"
      ]
    },
    {
      "cell_type": "code",
      "source": [
        "train = pd.concat([df_contact, df_y], ignore_index=True, sort=False, axis=1)\n",
        "test = pd.concat([df_contact_test, df_y_test], ignore_index=True, sort=False, axis=1)"
      ],
      "metadata": {
        "id": "GvvybuuWAdy8"
      },
      "execution_count": 238,
      "outputs": []
    },
    {
      "cell_type": "code",
      "source": [
        "train = train.sample(frac = 1)\n",
        "test = test.sample(frac = 1)"
      ],
      "metadata": {
        "id": "LCuY7ow9Avm7"
      },
      "execution_count": 239,
      "outputs": []
    },
    {
      "cell_type": "code",
      "source": [
        "df_contact = train.loc[:, :1023]\n",
        "df_y = train.loc[:, 1024]\n",
        "df_contact_test = test.loc[:, :1023]\n",
        "df_y_test = test.loc[:, 1024]"
      ],
      "metadata": {
        "id": "ITN8dB-6AsyA"
      },
      "execution_count": 240,
      "outputs": []
    },
    {
      "cell_type": "code",
      "execution_count": 241,
      "metadata": {
        "id": "Pa8QXiVrXhNP"
      },
      "outputs": [],
      "source": [
        "df_contact = df_contact.values\n",
        "df_contact_test = df_contact_test.values\n",
        "df_y = df_y.values\n",
        "df_y_test = df_y_test.values"
      ]
    },
    {
      "cell_type": "code",
      "execution_count": 242,
      "metadata": {
        "id": "u81QEP7Nw62m",
        "colab": {
          "base_uri": "https://localhost:8080/"
        },
        "outputId": "40d2fcee-39a7-4a52-89e3-75c943ca767b"
      },
      "outputs": [
        {
          "output_type": "execute_result",
          "data": {
            "text/plain": [
              "numpy.ndarray"
            ]
          },
          "metadata": {},
          "execution_count": 242
        }
      ],
      "source": [
        "type(df_y_test)"
      ]
    },
    {
      "cell_type": "markdown",
      "metadata": {
        "id": "LB68frJIzT3h"
      },
      "source": [
        "##Bagging"
      ]
    },
    {
      "cell_type": "code",
      "execution_count": 31,
      "metadata": {
        "id": "2xB8zhd898EW"
      },
      "outputs": [],
      "source": [
        "from sklearn import model_selection\n",
        "from sklearn.ensemble import BaggingClassifier\n",
        "from sklearn.tree import DecisionTreeClassifier\n",
        "\n",
        "model = BaggingClassifier(base_estimator = DecisionTreeClassifier(), n_estimators = 250, random_state=7)\n",
        "model.fit(df_contact, df_y.ravel())\n",
        "yhat = model.predict(df_contact_test)"
      ]
    },
    {
      "cell_type": "code",
      "execution_count": 32,
      "metadata": {
        "id": "opmKb5g8SgCQ",
        "colab": {
          "base_uri": "https://localhost:8080/"
        },
        "outputId": "e849fe2a-b9cd-4cd2-9afb-9a37becb0e55"
      },
      "outputs": [
        {
          "output_type": "execute_result",
          "data": {
            "text/plain": [
              "0.689"
            ]
          },
          "metadata": {},
          "execution_count": 32
        }
      ],
      "source": [
        "from sklearn.metrics import accuracy_score\n",
        "accuracy_score(df_y_test, yhat)"
      ]
    },
    {
      "cell_type": "markdown",
      "metadata": {
        "id": "cS8e0k9wzSoX"
      },
      "source": [
        "##AdaBoost"
      ]
    },
    {
      "cell_type": "code",
      "execution_count": 34,
      "metadata": {
        "id": "w-BQhhxFzRkZ"
      },
      "outputs": [],
      "source": [
        "import pandas\n",
        "from sklearn import model_selection\n",
        "from sklearn.ensemble import AdaBoostClassifier\n",
        "\n",
        "model = AdaBoostClassifier(n_estimators=1000, random_state=7)\n",
        "model.fit(df_contact, df_y.ravel())\n",
        "yhat = model.predict(df_contact_test)"
      ]
    },
    {
      "cell_type": "code",
      "execution_count": 35,
      "metadata": {
        "id": "W6fHFXlO0Nax",
        "colab": {
          "base_uri": "https://localhost:8080/"
        },
        "outputId": "c6077e2a-aeb5-4b4a-d557-71d63e238f01"
      },
      "outputs": [
        {
          "output_type": "execute_result",
          "data": {
            "text/plain": [
              "0.522"
            ]
          },
          "metadata": {},
          "execution_count": 35
        }
      ],
      "source": [
        "from sklearn.metrics import accuracy_score\n",
        "df_y_test = np.array(df_y_test)\n",
        "accuracy_score(df_y_test, yhat)"
      ]
    },
    {
      "cell_type": "markdown",
      "metadata": {
        "id": "cU9A-liB470q"
      },
      "source": [
        "##Random Forest"
      ]
    },
    {
      "cell_type": "code",
      "execution_count": 60,
      "metadata": {
        "id": "zZ7sQ1Mf4_2J"
      },
      "outputs": [],
      "source": [
        "import pandas\n",
        "from sklearn import model_selection\n",
        "from sklearn.ensemble import RandomForestClassifier\n",
        "\n",
        "model = RandomForestClassifier(n_estimators=10000, max_features=128)\n",
        "model.fit(df_contact, df_y.ravel())\n",
        "yhat = model.predict(df_contact_test)"
      ]
    },
    {
      "cell_type": "code",
      "execution_count": 63,
      "metadata": {
        "id": "lEcw7kP-5z2k",
        "colab": {
          "base_uri": "https://localhost:8080/"
        },
        "outputId": "1f3ad6d8-1d69-4496-b945-05c4e55e0a00"
      },
      "outputs": [
        {
          "output_type": "execute_result",
          "data": {
            "text/plain": [
              "0.726"
            ]
          },
          "metadata": {},
          "execution_count": 63
        }
      ],
      "source": [
        "from sklearn.metrics import accuracy_score\n",
        "df_y_test_ = df_y_test\n",
        "accuracy_score(df_y_test_, yhat)"
      ]
    },
    {
      "cell_type": "markdown",
      "metadata": {
        "id": "ugysikSzAYxz"
      },
      "source": [
        "##Voting "
      ]
    },
    {
      "cell_type": "code",
      "execution_count": 36,
      "metadata": {
        "id": "ucax9o-AAYNY"
      },
      "outputs": [],
      "source": [
        "from sklearn import model_selection\n",
        "from sklearn.linear_model import LogisticRegression\n",
        "from sklearn.tree import DecisionTreeClassifier\n",
        "from sklearn.svm import SVC\n",
        "from sklearn.ensemble import VotingClassifier\n",
        "\n",
        "estimators = []\n",
        "model1 = LogisticRegression()\n",
        "estimators.append(('logistic', model1))\n",
        "model2 = DecisionTreeClassifier()\n",
        "estimators.append(('cart', model2))\n",
        "model3 = SVC()\n",
        "estimators.append(('svm', model3))\n",
        "\n",
        "ensemble = VotingClassifier(estimators)\n",
        "model.fit(df_contact, df_y.ravel())\n",
        "yhat = model.predict(df_contact_test)"
      ]
    },
    {
      "cell_type": "code",
      "execution_count": 37,
      "metadata": {
        "id": "gUbC5MEbEvLd",
        "colab": {
          "base_uri": "https://localhost:8080/"
        },
        "outputId": "3e55aab0-44dc-4ce4-d5c6-34e446b71f2c"
      },
      "outputs": [
        {
          "output_type": "execute_result",
          "data": {
            "text/plain": [
              "0.522"
            ]
          },
          "metadata": {},
          "execution_count": 37
        }
      ],
      "source": [
        "from sklearn.metrics import accuracy_score\n",
        "accuracy_score(df_y_test, yhat)"
      ]
    },
    {
      "cell_type": "markdown",
      "metadata": {
        "id": "aTdsI8x2TlJH"
      },
      "source": [
        "---"
      ]
    },
    {
      "cell_type": "code",
      "execution_count": 38,
      "metadata": {
        "id": "F9lyaVDHS-EP"
      },
      "outputs": [],
      "source": [
        "from sklearn import datasets\n",
        "from sklearn.tree import DecisionTreeClassifier\n",
        "from sklearn.neighbors import KNeighborsClassifier\n",
        "from sklearn.svm import SVC\n",
        "from itertools import product\n",
        "from sklearn.ensemble import VotingClassifier\n",
        "\n",
        "clf1 = DecisionTreeClassifier(max_depth=4)\n",
        "clf2 = KNeighborsClassifier(n_neighbors=7)\n",
        "clf3 = SVC(kernel='rbf', probability=True)\n",
        "eclf = VotingClassifier(estimators=[('dt', clf1), ('knn', clf2), ('svc', clf3)], voting='soft', weights=[1, 3, 5])\n",
        "\n",
        "clf1.fit(df_contact, df_y.ravel())\n",
        "yhat_1 = clf1.predict(df_contact_test)\n",
        "clf2.fit(df_contact, df_y.ravel())\n",
        "yhat_2 = clf2.predict(df_contact_test)\n",
        "clf3.fit(df_contact, df_y.ravel())\n",
        "yhat_3 = clf3.predict(df_contact_test)\n",
        "eclf.fit(df_contact, df_y.ravel())\n",
        "yhat_4 = eclf.predict(df_contact_test)"
      ]
    },
    {
      "cell_type": "code",
      "execution_count": 39,
      "metadata": {
        "id": "HReWj96FTj_3",
        "colab": {
          "base_uri": "https://localhost:8080/"
        },
        "outputId": "6cb3efa7-5ca3-481c-8769-73094ed00f23"
      },
      "outputs": [
        {
          "output_type": "stream",
          "name": "stdout",
          "text": [
            "0.523\n",
            "0.682\n",
            "0.732\n",
            "0.735\n"
          ]
        }
      ],
      "source": [
        "from sklearn.metrics import accuracy_score\n",
        "\n",
        "print(accuracy_score(df_y_test, yhat_1))\n",
        "print(accuracy_score(df_y_test, yhat_2))\n",
        "print(accuracy_score(df_y_test, yhat_3))\n",
        "print(accuracy_score(df_y_test, yhat_4))"
      ]
    },
    {
      "cell_type": "markdown",
      "metadata": {
        "id": "gfhPCpJ5Li7S"
      },
      "source": [
        "##Hist Gradient Tree Boosting"
      ]
    },
    {
      "cell_type": "code",
      "execution_count": 40,
      "metadata": {
        "id": "hZk4jmrIK-n-",
        "colab": {
          "base_uri": "https://localhost:8080/"
        },
        "outputId": "919f679a-5db5-46f3-9689-ee6ef50dc42a"
      },
      "outputs": [
        {
          "output_type": "execute_result",
          "data": {
            "text/plain": [
              "0.734"
            ]
          },
          "metadata": {},
          "execution_count": 40
        }
      ],
      "source": [
        "from sklearn.ensemble import GradientBoostingClassifier\n",
        "from sklearn.ensemble import HistGradientBoostingClassifier\n",
        "\n",
        "clf = HistGradientBoostingClassifier(loss='binary_crossentropy', learning_rate=0.2).fit(df_contact, df_y.ravel())\n",
        "clf.score(df_contact_test, df_y_test)"
      ]
    },
    {
      "cell_type": "markdown",
      "metadata": {
        "id": "sms-HZ5nhWsT"
      },
      "source": [
        "##Neural Network"
      ]
    },
    {
      "cell_type": "code",
      "execution_count": 56,
      "metadata": {
        "id": "XF-TTFCUhSs1",
        "colab": {
          "base_uri": "https://localhost:8080/"
        },
        "outputId": "717e55c9-a75e-4062-b792-7eff259fbf4a"
      },
      "outputs": [
        {
          "output_type": "execute_result",
          "data": {
            "text/plain": [
              "0.775"
            ]
          },
          "metadata": {},
          "execution_count": 56
        }
      ],
      "source": [
        "from sklearn.neural_network import MLPClassifier\n",
        "clf = MLPClassifier(solver='adam', alpha=1e-2, hidden_layer_sizes=(128,), random_state=1)\n",
        "clf.fit(df_contact, df_y.ravel())\n",
        "yhat = clf.predict(df_contact_test)\n",
        "accuracy_score(df_y_test, yhat)"
      ]
    },
    {
      "cell_type": "code",
      "source": [
        "from sklearn import datasets\n",
        "from sklearn.svm import SVC\n",
        "from sklearn.ensemble import VotingClassifier\n",
        "\n",
        "clf1 = MLPClassifier(solver='adam', alpha=1e-2, hidden_layer_sizes=(128,), random_state=1)\n",
        "clf2 = KNeighborsClassifier(n_neighbors=7)\n",
        "clf3 = SVC(kernel='rbf', probability=True)\n",
        "eclf = VotingClassifier(estimators=[('mlp', clf1), ('knn', clf2), ('svc', clf3)], voting='soft', weights=[5, 3, 4])\n",
        "\n",
        "clf1.fit(df_contact, df_y.ravel())\n",
        "yhat_1 = clf1.predict(df_contact_test)\n",
        "clf2.fit(df_contact, df_y.ravel())\n",
        "yhat_2 = clf2.predict(df_contact_test)\n",
        "clf3.fit(df_contact, df_y.ravel())\n",
        "yhat_3 = clf3.predict(df_contact_test)\n",
        "eclf.fit(df_contact, df_y.ravel())\n",
        "yhat_4 = eclf.predict(df_contact_test)"
      ],
      "metadata": {
        "id": "FXFk4qlECPtL"
      },
      "execution_count": 57,
      "outputs": []
    },
    {
      "cell_type": "code",
      "source": [
        "from sklearn.metrics import accuracy_score\n",
        "\n",
        "print(accuracy_score(df_y_test, yhat_1))\n",
        "print(accuracy_score(df_y_test, yhat_2))\n",
        "print(accuracy_score(df_y_test, yhat_3))\n",
        "print(accuracy_score(df_y_test, yhat_4))"
      ],
      "metadata": {
        "colab": {
          "base_uri": "https://localhost:8080/"
        },
        "id": "EOr_X54gCRR7",
        "outputId": "f6770c7f-8f28-497e-a3b5-866f05dc301c"
      },
      "execution_count": 58,
      "outputs": [
        {
          "output_type": "stream",
          "name": "stdout",
          "text": [
            "0.774\n",
            "0.682\n",
            "0.732\n",
            "0.786\n"
          ]
        }
      ]
    },
    {
      "cell_type": "markdown",
      "metadata": {
        "id": "aOxPCndp547X"
      },
      "source": [
        "#distance - subtraction"
      ]
    },
    {
      "cell_type": "code",
      "execution_count": 317,
      "metadata": {
        "id": "udd07GBOj_Dv",
        "colab": {
          "base_uri": "https://localhost:8080/"
        },
        "outputId": "1df457be-900c-4627-ebb7-cd3b0f25fd80"
      },
      "outputs": [
        {
          "output_type": "execute_result",
          "data": {
            "text/plain": [
              "(2200, 512)"
            ]
          },
          "metadata": {},
          "execution_count": 317
        }
      ],
      "source": [
        "fd_concat_distance = np.zeros((df_contact.shape[0], int(df_contact.shape[1]/2)))\n",
        "c = 0\n",
        "for row in df_contact:\n",
        "  for element in range(row.shape[0]):\n",
        "    if element < 512:\n",
        "      fd_concat_distance[c][element] = row[element] - row[element + 512]\n",
        "  c = c + 1\n",
        "\n",
        "fd_concat_distance.shape"
      ]
    },
    {
      "cell_type": "code",
      "execution_count": 318,
      "metadata": {
        "id": "jdxbwjrWu7YU",
        "colab": {
          "base_uri": "https://localhost:8080/"
        },
        "outputId": "00fcae52-9174-40b5-a2c6-8b6e1849bdac"
      },
      "outputs": [
        {
          "output_type": "execute_result",
          "data": {
            "text/plain": [
              "(1000, 512)"
            ]
          },
          "metadata": {},
          "execution_count": 318
        }
      ],
      "source": [
        "fd_concat_distance_test = np.zeros((df_contact_test.shape[0], int(df_contact_test.shape[1]/2)))\n",
        "c = 0\n",
        "for row in df_contact_test:\n",
        "  for element in range(row.shape[0]):\n",
        "    if element < 512:\n",
        "      fd_concat_distance_test[c][element] = row[element] - row[element + 512]\n",
        "  c = c + 1\n",
        "\n",
        "fd_concat_distance_test.shape"
      ]
    },
    {
      "cell_type": "markdown",
      "source": [
        "###Other distances"
      ],
      "metadata": {
        "id": "4bdVZH1UINr2"
      }
    },
    {
      "cell_type": "code",
      "source": [
        "# #################################################\n",
        "from sklearn.metrics.pairwise import euclidean_distances\n",
        "num_row = 0\n",
        "new_feature = np.zeros([df_contact.shape[0], 1])\n",
        "for row in df_contact:\n",
        "  a = row[ : 512].reshape(1, -1)\n",
        "  b = row[512 :].reshape(1, -1)\n",
        "  dst = euclidean_distances(a, b)\n",
        "  new_feature [num_row] = dst\n",
        "  num_row = num_row + 1\n",
        "\n",
        "fd_concat_distance = np.append(fd_concat_distance, new_feature, axis = 1)\n",
        "fd_concat_distance.shape"
      ],
      "metadata": {
        "id": "JZdKjO0VADEH",
        "colab": {
          "base_uri": "https://localhost:8080/"
        },
        "outputId": "b7dc07d3-8a15-4430-dbb9-3fbf2ce9748e"
      },
      "execution_count": 319,
      "outputs": [
        {
          "output_type": "execute_result",
          "data": {
            "text/plain": [
              "(2200, 513)"
            ]
          },
          "metadata": {},
          "execution_count": 319
        }
      ]
    },
    {
      "cell_type": "code",
      "source": [
        "# #################################################\n",
        "from sklearn.metrics.pairwise import euclidean_distances\n",
        "num_row = 0\n",
        "new_feature = np.zeros([df_contact_test.shape[0], 1])\n",
        "for row in df_contact_test:\n",
        "  a = row[ : 512].reshape(1, -1)\n",
        "  b = row[512 :].reshape(1, -1)\n",
        "  dst = euclidean_distances(a, b)\n",
        "  new_feature [num_row] = dst\n",
        "  num_row = num_row + 1\n",
        "\n",
        "fd_concat_distance_test = np.append(fd_concat_distance_test, new_feature, axis = 1)\n",
        "fd_concat_distance_test.shape"
      ],
      "metadata": {
        "id": "kqve7LX9_4Jv",
        "colab": {
          "base_uri": "https://localhost:8080/"
        },
        "outputId": "5dde95a8-6861-4f80-984c-34317c4a1f2c"
      },
      "execution_count": 320,
      "outputs": [
        {
          "output_type": "execute_result",
          "data": {
            "text/plain": [
              "(1000, 513)"
            ]
          },
          "metadata": {},
          "execution_count": 320
        }
      ]
    },
    {
      "cell_type": "code",
      "source": [
        "#################################################\n",
        "from sklearn.metrics.pairwise import manhattan_distances\n",
        "num_row = 0\n",
        "new_feature = np.zeros([df_contact.shape[0], 1])\n",
        "for row in df_contact:\n",
        "  a = row[ : 512].reshape(1, -1)\n",
        "  b = row[512 :].reshape(1, -1)\n",
        "  dst = manhattan_distances(a, b)\n",
        "  new_feature [num_row] = dst\n",
        "  num_row = num_row + 1\n",
        "\n",
        "fd_concat_distance = np.append(fd_concat_distance, new_feature, axis = 1)\n",
        "fd_concat_distance.shape"
      ],
      "metadata": {
        "colab": {
          "base_uri": "https://localhost:8080/"
        },
        "id": "gttUKR2HVfhp",
        "outputId": "2d8e11da-e3c7-452f-a9e1-45476a7bdc74"
      },
      "execution_count": 321,
      "outputs": [
        {
          "output_type": "execute_result",
          "data": {
            "text/plain": [
              "(2200, 514)"
            ]
          },
          "metadata": {},
          "execution_count": 321
        }
      ]
    },
    {
      "cell_type": "code",
      "source": [
        "#################################################\n",
        "from sklearn.metrics.pairwise import manhattan_distances\n",
        "num_row = 0\n",
        "new_feature = np.zeros([df_contact_test.shape[0], 1])\n",
        "for row in df_contact_test:\n",
        "  a = row[ : 512].reshape(1, -1)\n",
        "  b = row[512 :].reshape(1, -1)\n",
        "  dst = manhattan_distances(a, b)\n",
        "  new_feature [num_row] = dst\n",
        "  num_row = num_row + 1\n",
        "\n",
        "fd_concat_distance_test = np.append(fd_concat_distance_test, new_feature, axis = 1)\n",
        "fd_concat_distance_test.shape"
      ],
      "metadata": {
        "colab": {
          "base_uri": "https://localhost:8080/"
        },
        "id": "k8q9i_ubVhmY",
        "outputId": "c6b099a7-dfa6-4e79-d218-b8693c7aaf0e"
      },
      "execution_count": 322,
      "outputs": [
        {
          "output_type": "execute_result",
          "data": {
            "text/plain": [
              "(1000, 514)"
            ]
          },
          "metadata": {},
          "execution_count": 322
        }
      ]
    },
    {
      "cell_type": "code",
      "source": [
        "#################################################\n",
        "from sklearn.metrics.pairwise import cosine_similarity\n",
        "num_row = 0\n",
        "new_feature = np.zeros([df_contact.shape[0], 1])\n",
        "for row in df_contact:\n",
        "  a = row[ : 512].reshape(1, -1)\n",
        "  b = row[512 :].reshape(1, -1)\n",
        "  dst = cosine_similarity(a, b)\n",
        "  new_feature [num_row] = dst\n",
        "  num_row = num_row + 1\n",
        "\n",
        "fd_concat_distance = np.append(fd_concat_distance, new_feature, axis = 1)\n",
        "fd_concat_distance.shape"
      ],
      "metadata": {
        "colab": {
          "base_uri": "https://localhost:8080/"
        },
        "id": "RbgbplP9XJsM",
        "outputId": "9d230cd0-4b97-420d-9c53-941a62b1b824"
      },
      "execution_count": 323,
      "outputs": [
        {
          "output_type": "execute_result",
          "data": {
            "text/plain": [
              "(2200, 515)"
            ]
          },
          "metadata": {},
          "execution_count": 323
        }
      ]
    },
    {
      "cell_type": "code",
      "source": [
        "#################################################\n",
        "from sklearn.metrics.pairwise import cosine_similarity\n",
        "num_row = 0\n",
        "new_feature = np.zeros([df_contact_test.shape[0], 1])\n",
        "for row in df_contact_test:\n",
        "  a = row[ : 512].reshape(1, -1)\n",
        "  b = row[512 :].reshape(1, -1)\n",
        "  dst = cosine_similarity(a, b)\n",
        "  new_feature [num_row] = dst\n",
        "  num_row = num_row + 1\n",
        "\n",
        "fd_concat_distance_test = np.append(fd_concat_distance_test, new_feature, axis = 1)\n",
        "fd_concat_distance_test.shape"
      ],
      "metadata": {
        "colab": {
          "base_uri": "https://localhost:8080/"
        },
        "id": "bipkKqcBXMF0",
        "outputId": "8d41ab05-ab35-4089-cef0-acada4a7812d"
      },
      "execution_count": 324,
      "outputs": [
        {
          "output_type": "execute_result",
          "data": {
            "text/plain": [
              "(1000, 515)"
            ]
          },
          "metadata": {},
          "execution_count": 324
        }
      ]
    },
    {
      "cell_type": "markdown",
      "source": [
        "###Standard"
      ],
      "metadata": {
        "id": "9nCxrC3xbM_U"
      }
    },
    {
      "cell_type": "code",
      "source": [
        "from sklearn.preprocessing import StandardScaler\n",
        "sc = StandardScaler()\n",
        "fd_concat_distance = sc.fit_transform(fd_concat_distance)\n",
        "fd_concat_distance_test = sc.transform (fd_concat_distance_test)"
      ],
      "metadata": {
        "id": "L6JRtrJYYSN4"
      },
      "execution_count": 325,
      "outputs": []
    },
    {
      "cell_type": "markdown",
      "source": [
        "###Test"
      ],
      "metadata": {
        "id": "HeyOgOQ19VmW"
      }
    },
    {
      "cell_type": "code",
      "source": [
        "from sklearn.neural_network import MLPClassifier\n",
        "clf = MLPClassifier(solver='adam', alpha=1e-1, hidden_layer_sizes=(300,), random_state=1)\n",
        "clf.fit(fd_concat_distance, df_y.ravel())\n",
        "yhat = clf.predict(fd_concat_distance_test)\n",
        "accuracy_score(df_y_test, yhat)"
      ],
      "metadata": {
        "colab": {
          "base_uri": "https://localhost:8080/"
        },
        "id": "Mdcg622kSbyk",
        "outputId": "5627c075-d977-4b1f-97ba-b5b9185dff3e"
      },
      "execution_count": 223,
      "outputs": [
        {
          "output_type": "execute_result",
          "data": {
            "text/plain": [
              "0.88"
            ]
          },
          "metadata": {},
          "execution_count": 223
        }
      ]
    },
    {
      "cell_type": "code",
      "execution_count": 224,
      "metadata": {
        "id": "TS0x5Vy_vTk2"
      },
      "outputs": [],
      "source": [
        "from sklearn import datasets\n",
        "from sklearn.svm import SVC\n",
        "from sklearn.ensemble import VotingClassifier\n",
        "\n",
        "clf1 = MLPClassifier(solver='adam', alpha=1e-1, hidden_layer_sizes=(300,), random_state=1)\n",
        "clf2 = SVC(kernel='rbf', probability=True)\n",
        "eclf = VotingClassifier(estimators=[('mlp', clf1), ('svc', clf2)], voting='soft', weights=[5, 4])\n",
        "\n",
        "clf1.fit(fd_concat_distance, df_y.ravel())\n",
        "yhat_1 = clf1.predict(fd_concat_distance_test)\n",
        "clf2.fit(fd_concat_distance, df_y.ravel())\n",
        "yhat_2 = clf2.predict(fd_concat_distance_test)\n",
        "eclf.fit(fd_concat_distance, df_y.ravel())\n",
        "yhat_4 = eclf.predict(fd_concat_distance_test)"
      ]
    },
    {
      "cell_type": "code",
      "execution_count": 226,
      "metadata": {
        "id": "149x4gtmvijl",
        "colab": {
          "base_uri": "https://localhost:8080/"
        },
        "outputId": "f4125ed4-f583-4113-af27-31c7ce43a9f3"
      },
      "outputs": [
        {
          "output_type": "stream",
          "name": "stdout",
          "text": [
            "0.88\n",
            "0.859\n",
            "0.88\n"
          ]
        }
      ],
      "source": [
        "from sklearn.metrics import accuracy_score\n",
        "\n",
        "print(accuracy_score(df_y_test, yhat_1))\n",
        "print(accuracy_score(df_y_test, yhat_2))\n",
        "print(accuracy_score(df_y_test, yhat_4))"
      ]
    },
    {
      "cell_type": "markdown",
      "metadata": {
        "id": "aXEiPSweyWVK"
      },
      "source": [
        "#Image filters"
      ]
    },
    {
      "cell_type": "code",
      "source": [
        "df_norm_ = fd_concat_distance\n",
        "df_norm_test_ = fd_concat_distance_test\n",
        "y_ = df_y"
      ],
      "metadata": {
        "id": "QwHklk2CRHY7"
      },
      "execution_count": 281,
      "outputs": []
    },
    {
      "cell_type": "markdown",
      "source": [
        "##Darker"
      ],
      "metadata": {
        "id": "KoXdpfCdKbaZ"
      }
    },
    {
      "cell_type": "code",
      "execution_count": 265,
      "metadata": {
        "id": "l_7WJenfyYGC",
        "colab": {
          "base_uri": "https://localhost:8080/"
        },
        "outputId": "179ca721-472a-49e9-c6f1-eb2b947abaae"
      },
      "outputs": [
        {
          "output_type": "stream",
          "name": "stdout",
          "text": [
            "(2200, 515)\n",
            "(4400, 515)\n"
          ]
        }
      ],
      "source": [
        "print(df_norm_.shape)\n",
        "num_row = 0\n",
        "for row in fd_concat_distance:\n",
        "  darker = np.empty([0,0])\n",
        "  for elmnt in range(row.shape[0]-3):\n",
        "    temp = row[elmnt] + 0.2\n",
        "    if temp > 1:\n",
        "      temp = 1\n",
        "    darker = np.append(darker, temp)\n",
        "\n",
        "  darker  = np.append(darker, row[512])\n",
        "  darker  = np.append(darker, row[513])\n",
        "  darker  = np.append(darker, row[514])\n",
        "  darker = np.expand_dims(darker, axis=1)\n",
        "  df_norm_ = np.concatenate((df_norm_, darker.T), axis=0)\n",
        "  y_ = np.append(y_, y_[num_row])\n",
        "  num_row = num_row + 1\n",
        "print(df_norm_.shape)"
      ]
    },
    {
      "cell_type": "markdown",
      "source": [
        "##Lighter"
      ],
      "metadata": {
        "id": "sofSpClEP2iJ"
      }
    },
    {
      "cell_type": "code",
      "execution_count": 266,
      "metadata": {
        "id": "EhEj29CLyVca",
        "colab": {
          "base_uri": "https://localhost:8080/"
        },
        "outputId": "eca4b8aa-9366-4f22-ef7b-ca48e93a97b5"
      },
      "outputs": [
        {
          "output_type": "stream",
          "name": "stdout",
          "text": [
            "(4400, 515)\n",
            "(6600, 515)\n"
          ]
        }
      ],
      "source": [
        "print(df_norm_.shape)\n",
        "num_row = 0\n",
        "for row in fd_concat_distance:\n",
        "  lighter = np.empty([0,0])\n",
        "  for elmnt in range(row.shape[0] - 3):\n",
        "    temp = row[elmnt] - 0.2\n",
        "    if temp < 0:\n",
        "      temp = 0\n",
        "    lighter = np.append(lighter, temp)\n",
        "\n",
        "  lighter  = np.append(lighter, row[512])\n",
        "  lighter  = np.append(lighter, row[513])\n",
        "  lighter  = np.append(lighter, row[514])\n",
        "  lighter = np.expand_dims(lighter, axis=1)\n",
        "  df_norm_ = np.concatenate((df_norm_, lighter.T), axis=0)\n",
        "  y_ = np.append(y_, y_[num_row])\n",
        "  num_row = num_row + 1\n",
        "print(df_norm_.shape)"
      ]
    },
    {
      "cell_type": "markdown",
      "source": [
        "##Rotate"
      ],
      "metadata": {
        "id": "XXGpaml3TjuW"
      }
    },
    {
      "cell_type": "code",
      "source": [
        "# print(df_norm_.shape)\n",
        "# num_row = 0\n",
        "# for row in fd_concat_distance:\n",
        "  \n",
        "#   swaper = np.empty([0,0])\n",
        "#   for elmnt in range(row.shape[0]):\n",
        "#     temp = row[row.shape[0] - elmnt - 1]\n",
        "#     swaper = np.append(swaper, temp)\n",
        "\n",
        "#   swaper = np.expand_dims(swaper, axis=1)\n",
        "#   df_norm_ = np.concatenate((df_norm_, swaper.T), axis=0)\n",
        "#   df_y = np.append(df_y, df_y[num_row])\n",
        "#   num_row = num_row + 1\n",
        "# print(df_norm_.shape)"
      ],
      "metadata": {
        "id": "MrpSGBdZTjPD"
      },
      "execution_count": null,
      "outputs": []
    },
    {
      "cell_type": "markdown",
      "source": [
        "##Salt and Pepper"
      ],
      "metadata": {
        "id": "CkhLazQpdbtw"
      }
    },
    {
      "cell_type": "code",
      "source": [
        "print(df_norm_.shape)\n",
        "num_row = 0\n",
        "for row in fd_concat_distance:\n",
        "  \n",
        "  salt_pepper = np.empty([0,0])\n",
        "  randm_dark = np.random.randint(512, size=32)\n",
        "  randm_light = np.random.randint(512, size=32)\n",
        "\n",
        "  for elmnt in range(row.shape[0]):\n",
        "    if elmnt in randm_dark and elmnt not in [512, 513, 514]:\n",
        "      temp = df_norm_.min()\n",
        "      salt_pepper = np.append(salt_pepper, temp)\n",
        "\n",
        "    elif elmnt in randm_light and elmnt not in [512, 513, 514]:\n",
        "      temp = df_norm_.max()\n",
        "      salt_pepper = np.append(salt_pepper, temp)\n",
        "\n",
        "    else:\n",
        "      temp = row[elmnt]\n",
        "      salt_pepper = np.append(salt_pepper, temp)\n",
        "\n",
        "  salt_pepper = np.expand_dims(salt_pepper, axis=1)\n",
        "  df_norm_ = np.concatenate((df_norm_, salt_pepper.T), axis=0)\n",
        "  y_ = np.append(y_, y_[num_row])\n",
        "  num_row = num_row + 1\n",
        "\n",
        "print(df_norm_.shape)"
      ],
      "metadata": {
        "id": "CuG1IJ1oXaal",
        "colab": {
          "base_uri": "https://localhost:8080/"
        },
        "outputId": "3e78af94-ac51-4d71-a8f4-cb8c0f6dbeb0"
      },
      "execution_count": 282,
      "outputs": [
        {
          "output_type": "stream",
          "name": "stdout",
          "text": [
            "(2200, 515)\n",
            "(4400, 515)\n"
          ]
        }
      ]
    },
    {
      "cell_type": "markdown",
      "source": [
        "##Test"
      ],
      "metadata": {
        "id": "aIqoSeZIlALa"
      }
    },
    {
      "cell_type": "code",
      "source": [
        "from sklearn import datasets\n",
        "from sklearn.svm import SVC\n",
        "from sklearn.ensemble import VotingClassifier\n",
        "\n",
        "clf1 = MLPClassifier(solver='adam', alpha=1e-1, hidden_layer_sizes=(300,), random_state=1)\n",
        "clf2 = SVC(kernel='rbf', probability=True)\n",
        "eclf = VotingClassifier(estimators=[('mlp', clf1), ('svc', clf2)], voting='soft', weights=[5, 4])\n",
        "\n",
        "clf1.fit(df_norm_, y_.ravel())\n",
        "yhat_1 = clf1.predict(fd_concat_distance_test)\n",
        "clf2.fit(df_norm_, y_.ravel())\n",
        "yhat_2 = clf2.predict(fd_concat_distance_test)\n",
        "eclf.fit(df_norm_, y_.ravel())\n",
        "yhat_4 = eclf.predict(fd_concat_distance_test)"
      ],
      "metadata": {
        "id": "6A7D_743lI4i"
      },
      "execution_count": 283,
      "outputs": []
    },
    {
      "cell_type": "code",
      "source": [
        "from sklearn.metrics import accuracy_score\n",
        "\n",
        "print(accuracy_score(df_y_test, yhat_1))\n",
        "print(accuracy_score(df_y_test, yhat_2))\n",
        "print(accuracy_score(df_y_test, yhat_4))"
      ],
      "metadata": {
        "colab": {
          "base_uri": "https://localhost:8080/"
        },
        "id": "qWqtSzszlLeq",
        "outputId": "b408a21a-6fa3-47ed-b78a-bc6b7fa53b0d"
      },
      "execution_count": 284,
      "outputs": [
        {
          "output_type": "stream",
          "name": "stdout",
          "text": [
            "0.867\n",
            "0.839\n",
            "0.871\n"
          ]
        }
      ]
    },
    {
      "cell_type": "markdown",
      "source": [
        "#Decision Tree"
      ],
      "metadata": {
        "id": "pJtq8uEE7ScC"
      }
    },
    {
      "cell_type": "code",
      "source": [
        "from sklearn.tree import DecisionTreeClassifier\n",
        "clf = DecisionTreeClassifier(random_state=0, criterion='entropy', class_weight='balanced')\n",
        "clf.fit(fd_concat_distance, df_y.ravel())\n",
        "yhat_dt = clf.predict(fd_concat_distance_test)\n",
        "print(accuracy_score(df_y_test, yhat_dt))"
      ],
      "metadata": {
        "id": "u4M9FMYDHQ-D",
        "colab": {
          "base_uri": "https://localhost:8080/"
        },
        "outputId": "d0b514c9-4b18-48b3-e141-51966c1e45e2"
      },
      "execution_count": 285,
      "outputs": [
        {
          "output_type": "stream",
          "name": "stdout",
          "text": [
            "0.808\n"
          ]
        }
      ]
    },
    {
      "cell_type": "code",
      "source": [
        "import numpy as np\n",
        "from sklearn.linear_model import LogisticRegression\n",
        "from sklearn.naive_bayes import GaussianNB\n",
        "from sklearn.ensemble import RandomForestClassifier, VotingClassifier\n",
        "from sklearn.svm import SVC\n",
        "\n",
        "clf1 = DecisionTreeClassifier(random_state=0, criterion='entropy', class_weight='balanced')\n",
        "clf2 = RandomForestClassifier(n_estimators=500, random_state=1)\n",
        "clf3 = GaussianNB()\n",
        "clf1.fit(fd_concat_distance, df_y.ravel())\n",
        "clf2.fit(fd_concat_distance, df_y.ravel())\n",
        "clf3.fit(fd_concat_distance, df_y.ravel())\n",
        "\n",
        "yhat_1 = clf1.predict(fd_concat_distance_test)\n",
        "yhat_2 = clf2.predict(fd_concat_distance_test)\n",
        "yhat_3 = clf3.predict(fd_concat_distance_test)"
      ],
      "metadata": {
        "id": "YfqxFEHDtjP9"
      },
      "execution_count": 287,
      "outputs": []
    },
    {
      "cell_type": "code",
      "source": [
        "from sklearn.metrics import accuracy_score\n",
        "print(accuracy_score(df_y_test, yhat_1))\n",
        "print(accuracy_score(df_y_test, yhat_2))\n",
        "print(accuracy_score(df_y_test, yhat_3))\n",
        "\n",
        "eclf1 = VotingClassifier(estimators=[('DecisionTreeClassifier', clf1), ('RandomForestClassifier', clf2), ('GaussianNB', clf3)],\n",
        "                        voting='soft', weights=[5, 5, 4])\n",
        "eclf1 = eclf1.fit(fd_concat_distance, df_y.ravel())\n",
        "yhat_res = eclf1.predict(fd_concat_distance_test)\n",
        "print(accuracy_score(df_y_test, yhat_1))"
      ],
      "metadata": {
        "id": "dO2Mz2586Gk2",
        "colab": {
          "base_uri": "https://localhost:8080/"
        },
        "outputId": "328b89e3-3343-4dc1-91a7-0a1ca3c214fb"
      },
      "execution_count": 290,
      "outputs": [
        {
          "output_type": "stream",
          "name": "stdout",
          "text": [
            "0.808\n",
            "0.861\n",
            "0.8\n",
            "0.808\n"
          ]
        }
      ]
    },
    {
      "cell_type": "markdown",
      "source": [
        "#mean pooling"
      ],
      "metadata": {
        "id": "QDQ_hf7xQTiV"
      }
    },
    {
      "cell_type": "code",
      "source": [
        "df_norm = fd_concat_distance\n",
        "df_norm_test = fd_concat_distance_test\n",
        "y_ = df_y"
      ],
      "metadata": {
        "id": "Xgwr-02sySz6"
      },
      "execution_count": 301,
      "outputs": []
    },
    {
      "cell_type": "code",
      "source": [
        "print(df_norm.shape)\n",
        "num_row = 0\n",
        "for row in fd_concat_distance:\n",
        "  mean_row = np.empty([0,0])\n",
        "  elmnt = 0\n",
        "  while elmnt < df_norm.shape[1]:\n",
        "    if elmnt + 3 < 512:\n",
        "      li = [row[elmnt], row[elmnt+1], row[elmnt+2], row[elmnt+3]]\n",
        "      temp = sum(li) / 4\n",
        "      mean_row = np.append(mean_row, temp)\n",
        "      elmnt = elmnt + 1\n",
        "    else:\n",
        "      temp = row[elmnt]\n",
        "      mean_row = np.append(mean_row, temp)\n",
        "      elmnt = elmnt + 1\n",
        "\n",
        "  mean_row = np.expand_dims(mean_row, axis=1)\n",
        "  df_norm = np.concatenate((df_norm, mean_row.T), axis=0)\n",
        "  y_ = np.append(y_, y_[num_row])\n",
        "  num_row = num_row + 1\n",
        "print(df_norm.shape)"
      ],
      "metadata": {
        "id": "RX2F5uPiLDrF",
        "colab": {
          "base_uri": "https://localhost:8080/"
        },
        "outputId": "945145a0-ed16-4fa8-bbc1-50653ccd121c"
      },
      "execution_count": 303,
      "outputs": [
        {
          "output_type": "stream",
          "name": "stdout",
          "text": [
            "(2200, 515)\n",
            "(4400, 515)\n"
          ]
        }
      ]
    },
    {
      "cell_type": "code",
      "source": [
        "from sklearn import datasets\n",
        "from sklearn.svm import SVC\n",
        "from sklearn.ensemble import VotingClassifier\n",
        "\n",
        "clf1 = MLPClassifier(solver='adam', alpha=1e-1, hidden_layer_sizes=(300,), random_state=1)\n",
        "clf2 = SVC(kernel='rbf', probability=True)\n",
        "eclf = VotingClassifier(estimators=[('mlp', clf1), ('svc', clf2)], voting='soft', weights=[5, 4])\n",
        "\n",
        "clf1.fit(df_norm, y_.ravel())\n",
        "yhat_1 = clf1.predict(df_norm_test)\n",
        "clf2.fit(df_norm, y_.ravel())\n",
        "yhat_2 = clf2.predict(df_norm_test)\n",
        "eclf.fit(df_norm, y_.ravel())\n",
        "yhat_4 = eclf.predict(df_norm_test)"
      ],
      "metadata": {
        "id": "xwT9WTSS7XMg"
      },
      "execution_count": 305,
      "outputs": []
    },
    {
      "cell_type": "code",
      "source": [
        "from sklearn.metrics import accuracy_score\n",
        "\n",
        "print(accuracy_score(df_y_test, yhat_1))\n",
        "print(accuracy_score(df_y_test, yhat_2))\n",
        "print(accuracy_score(df_y_test, yhat_4))"
      ],
      "metadata": {
        "colab": {
          "base_uri": "https://localhost:8080/"
        },
        "id": "-NMPLgTazB4O",
        "outputId": "7f92ae39-dfd1-4307-87d2-7143f34df1ff"
      },
      "execution_count": 306,
      "outputs": [
        {
          "output_type": "stream",
          "name": "stdout",
          "text": [
            "0.865\n",
            "0.869\n",
            "0.872\n"
          ]
        }
      ]
    },
    {
      "cell_type": "markdown",
      "source": [
        "#PCA"
      ],
      "metadata": {
        "id": "4GKLYPodH7Ut"
      }
    },
    {
      "cell_type": "code",
      "source": [
        "df_norm = fd_concat_distance\n",
        "df_norm_test = fd_concat_distance_test\n",
        "y_ = df_y"
      ],
      "metadata": {
        "id": "sWbtmwNNJ2X9"
      },
      "execution_count": 346,
      "outputs": []
    },
    {
      "cell_type": "code",
      "source": [
        "from sklearn.decomposition import PCA\n",
        "from sklearn.decomposition import KernelPCA\n",
        "pca = PCA(n_components= 256, random_state=7, svd_solver = 'arpack')\n",
        "X_PCA = pca.fit_transform(df_norm)\n",
        "X_PCA = pd.DataFrame(data = X_PCA)\n",
        "\n",
        "X_PCA_test = pca.fit_transform(df_norm_test)\n",
        "X_PCA_test = pd.DataFrame(data = X_PCA_test)"
      ],
      "metadata": {
        "id": "FUG-IaccAlh3"
      },
      "execution_count": 347,
      "outputs": []
    },
    {
      "cell_type": "code",
      "source": [
        "X_PCA.shape"
      ],
      "metadata": {
        "colab": {
          "base_uri": "https://localhost:8080/"
        },
        "id": "m_-68CVXKheD",
        "outputId": "dd5bd7d2-7dd2-4daf-a709-460992c2d1ce"
      },
      "execution_count": 348,
      "outputs": [
        {
          "output_type": "execute_result",
          "data": {
            "text/plain": [
              "(2200, 256)"
            ]
          },
          "metadata": {},
          "execution_count": 348
        }
      ]
    },
    {
      "cell_type": "code",
      "source": [
        "df_y_pd = pd.DataFrame(y_)"
      ],
      "metadata": {
        "id": "PzTzC-faBnLB"
      },
      "execution_count": 352,
      "outputs": []
    },
    {
      "cell_type": "code",
      "source": [
        "import seaborn as sns\n",
        "import matplotlib.pyplot as plt\n",
        "\n",
        "tempDF = pd.DataFrame(data=X_PCA.loc[:,0:1], index=X_PCA.index)\n",
        "tempDF = pd.concat((tempDF,df_y_pd), axis=1, join=\"inner\")\n",
        "tempDF.columns = [\"First\", \"Second\", \"Label\"]\n",
        "sns.lmplot(x=\"First\", y=\"Second\", hue=\"Label\", data=tempDF, fit_reg=False, height=15)\n",
        "plt.grid()"
      ],
      "metadata": {
        "colab": {
          "base_uri": "https://localhost:8080/",
          "height": 1000
        },
        "id": "oOySMlRNBZMN",
        "outputId": "a8e76a77-cd68-493b-a39a-86ed52cdacd2"
      },
      "execution_count": 353,
      "outputs": [
        {
          "output_type": "display_data",
          "data": {
            "image/png": "[encoded data removed]",
            "text/plain": [
              "<Figure size 1122.38x1080 with 1 Axes>"
            ]
          },
          "metadata": {
            "needs_background": "light"
          }
        }
      ]
    },
    {
      "cell_type": "code",
      "source": [
        "from sklearn import datasets\n",
        "from sklearn.svm import SVC\n",
        "from sklearn.ensemble import VotingClassifier\n",
        "\n",
        "clf1 = MLPClassifier(solver='adam', alpha=1e-4, hidden_layer_sizes=(128,), random_state=1)\n",
        "clf2 = SVC(kernel='rbf', probability=True)\n",
        "eclf = VotingClassifier(estimators=[('mlp', clf1), ('svc', clf2)], voting='soft', weights=[5, 4])\n",
        "\n",
        "clf1.fit(X_PCA, y_.ravel())\n",
        "yhat_1 = clf1.predict(X_PCA_test)\n",
        "clf2.fit(X_PCA, y_.ravel())\n",
        "yhat_2 = clf2.predict(X_PCA_test)\n",
        "eclf.fit(X_PCA, y_.ravel())\n",
        "yhat_4 = eclf.predict(X_PCA_test)"
      ],
      "metadata": {
        "id": "6lNaMz2ZJPol"
      },
      "execution_count": 358,
      "outputs": []
    },
    {
      "cell_type": "code",
      "source": [
        "from sklearn.metrics import accuracy_score\n",
        "\n",
        "print(accuracy_score(df_y_test, yhat_1))\n",
        "print(accuracy_score(df_y_test, yhat_2))\n",
        "print(accuracy_score(df_y_test, yhat_4))"
      ],
      "metadata": {
        "colab": {
          "base_uri": "https://localhost:8080/"
        },
        "id": "_rDSqTvsE0Q8",
        "outputId": "0f7488d8-44c8-49c2-f7c9-6fff0dd23e49"
      },
      "execution_count": 359,
      "outputs": [
        {
          "output_type": "stream",
          "name": "stdout",
          "text": [
            "0.538\n",
            "0.703\n",
            "0.566\n"
          ]
        }
      ]
    },
    {
      "cell_type": "markdown",
      "source": [
        "#Reduce Features "
      ],
      "metadata": {
        "id": "0R69HeOL3ScR"
      }
    },
    {
      "cell_type": "code",
      "source": [
        "df_norm = fd_concat_distance\n",
        "df_norm_test = fd_concat_distance_test\n",
        "y_ = df_y"
      ],
      "metadata": {
        "id": "PjMZGa-i3DrW"
      },
      "execution_count": 361,
      "outputs": []
    },
    {
      "cell_type": "code",
      "source": [
        "from sklearn.metrics.pairwise import euclidean_distances\n",
        "df_norm_ = np.zeros((df_contact.shape[0], int(df_contact.shape[1]/4)))\n",
        "c = 0\n",
        "for row in df_contact:\n",
        "  p = 0\n",
        "  it = 0\n",
        "  while p < (row.shape[0]-3)/2:  \n",
        "    a = np.array((row[p], row[p+1])).reshape(1, -1)\n",
        "    b = np.array((row[p+512], row[p+513])).reshape(1, -1)\n",
        "    dst = euclidean_distances(a, b)\n",
        "    df_norm_[c][it] = dst\n",
        "    it = it + 1\n",
        "    p = p + 2\n",
        "    \n",
        "  c = c + 1\n",
        "\n",
        "df_norm_.shape"
      ],
      "metadata": {
        "colab": {
          "base_uri": "https://localhost:8080/"
        },
        "id": "3ZCbHSrv3ijk",
        "outputId": "32af671b-34d0-4b82-a10b-f19c1ad5b717"
      },
      "execution_count": 362,
      "outputs": [
        {
          "output_type": "execute_result",
          "data": {
            "text/plain": [
              "(2200, 256)"
            ]
          },
          "metadata": {},
          "execution_count": 362
        }
      ]
    },
    {
      "cell_type": "code",
      "source": [
        "from sklearn.metrics.pairwise import euclidean_distances\n",
        "df_norm_test_ = np.zeros((df_contact_test.shape[0], int(df_contact_test.shape[1]/4)))\n",
        "c = 0\n",
        "for row in df_contact_test:\n",
        "  p = 0\n",
        "  it = 0\n",
        "  while p < (row.shape[0]-3)/2:   \n",
        "    a = np.array((row[p], row[p+1])).reshape(1, -1)\n",
        "    b = np.array((row[p+512], row[p+513])).reshape(1, -1)\n",
        "    dst = euclidean_distances(a, b)\n",
        "    df_norm_test_[c][it] = dst\n",
        "    it = it + 1\n",
        "    p = p + 2\n",
        "    \n",
        "  c = c + 1\n",
        "\n",
        "df_norm_test_.shape"
      ],
      "metadata": {
        "colab": {
          "base_uri": "https://localhost:8080/"
        },
        "id": "VwublZwn-Jht",
        "outputId": "a37c9492-a0e1-4426-be46-eeedfd814ebe"
      },
      "execution_count": 364,
      "outputs": [
        {
          "output_type": "execute_result",
          "data": {
            "text/plain": [
              "(1000, 256)"
            ]
          },
          "metadata": {},
          "execution_count": 364
        }
      ]
    },
    {
      "cell_type": "code",
      "source": [
        "from sklearn import datasets\n",
        "from sklearn.svm import SVC\n",
        "from sklearn.ensemble import VotingClassifier\n",
        "\n",
        "clf1 = MLPClassifier(solver='adam', alpha=1e-2, hidden_layer_sizes=(128,), random_state=1)\n",
        "clf2 = SVC(kernel='rbf', probability=True)\n",
        "eclf = VotingClassifier(estimators=[('mlp', clf1), ('svc', clf2)], voting='soft', weights=[5, 5])\n",
        "\n",
        "clf1.fit(df_norm_, y_.ravel())\n",
        "yhat_1 = clf1.predict(df_norm_test_)\n",
        "clf2.fit(df_norm_, y_.ravel())\n",
        "yhat_2 = clf2.predict(df_norm_test_)\n",
        "eclf.fit(df_norm_, y_.ravel())\n",
        "yhat_4 = eclf.predict(df_norm_test_)"
      ],
      "metadata": {
        "id": "9TkhtJdL-Zjh"
      },
      "execution_count": 380,
      "outputs": []
    },
    {
      "cell_type": "code",
      "source": [
        "from sklearn.metrics import accuracy_score\n",
        "\n",
        "print(accuracy_score(df_y_test, yhat_1))\n",
        "print(accuracy_score(df_y_test, yhat_2))\n",
        "print(accuracy_score(df_y_test, yhat_4))"
      ],
      "metadata": {
        "colab": {
          "base_uri": "https://localhost:8080/"
        },
        "id": "TkWTyggH-lMo",
        "outputId": "79e82ef6-5576-4ef1-e1cd-afd485862af0"
      },
      "execution_count": 381,
      "outputs": [
        {
          "output_type": "stream",
          "name": "stdout",
          "text": [
            "0.704\n",
            "0.838\n",
            "0.768\n"
          ]
        }
      ]
    },
    {
      "cell_type": "markdown",
      "source": [
        "------------------------"
      ],
      "metadata": {
        "id": "9rfaapI9EOV-"
      }
    },
    {
      "cell_type": "markdown",
      "source": [
        "#Kamyar Nasiri"
      ],
      "metadata": {
        "id": "QU0FoY7wEQoY"
      }
    }
  ],
  "metadata": {
    "colab": {
      "collapsed_sections": [
        "Rpi7GaW71ARU",
        "AWn_dHfgzbtp",
        "conHICQ23jPU",
        "LB68frJIzT3h",
        "cS8e0k9wzSoX",
        "cU9A-liB470q",
        "ugysikSzAYxz",
        "gfhPCpJ5Li7S",
        "sms-HZ5nhWsT",
        "aOxPCndp547X",
        "4bdVZH1UINr2",
        "9nCxrC3xbM_U",
        "HeyOgOQ19VmW",
        "aXEiPSweyWVK",
        "KoXdpfCdKbaZ",
        "sofSpClEP2iJ",
        "XXGpaml3TjuW",
        "CkhLazQpdbtw",
        "aIqoSeZIlALa",
        "pJtq8uEE7ScC",
        "QDQ_hf7xQTiV",
        "4GKLYPodH7Ut",
        "0R69HeOL3ScR"
      ],
      "name": "Ensemble_Learning.ipynb",
      "provenance": []
    },
    "kernelspec": {
      "display_name": "Python 3",
      "name": "python3"
    },
    "language_info": {
      "name": "python"
    }
  },
  "nbformat": 4,
  "nbformat_minor": 0
}
